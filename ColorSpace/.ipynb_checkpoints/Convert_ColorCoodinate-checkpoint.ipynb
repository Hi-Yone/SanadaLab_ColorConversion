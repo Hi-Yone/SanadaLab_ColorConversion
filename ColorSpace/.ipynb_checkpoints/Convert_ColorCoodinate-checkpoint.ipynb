{
 "cells": [
  {
   "cell_type": "markdown",
   "metadata": {},
   "source": [
    "# 色座標変換プログラム実行プログラム\n",
    "モジュールとして変換プログラムを読み込んで使用する。<br>\n",
    "このプログラムはメイン関数としてのみ使用する。\n",
    "\n",
    "- 着色に関して参考にできそう<br>\n",
    "https://www.t-kougei.ac.jp/activity/research/pdf/vol36-1-09.pdf\n",
    "\n",
    "- ToDo<br>\n",
    "    - xyz->RGBの逆変換も作る\n",
    "    - 各モジュールに対しても同様に逆変換を作る\n",
    "\n",
    "    - プロットの色をRGBまたはカラーコードで指定する -> 色度図の色の変化をわかりやすくする<br>\n",
    "    RGB指定の場合、0~255ではなく、0~1で指定する。<br>\n",
    "    https://note-tech.com/matplotlib-color/#toc3\n",
    "\n",
    "    - 測色結果を元に色変換ができるようにする（汎用性の向上）\n",
    "    - RGB - L*a*b*を作成\n",
    "    - RGB - lmsを作成\n",
    "    - RGB - dklを作成\n",
    "\n"
   ]
  },
  {
   "cell_type": "markdown",
   "metadata": {},
   "source": [
    "#### ○ 必要なライブラリのインポート"
   ]
  },
  {
   "cell_type": "code",
   "execution_count": 2,
   "metadata": {},
   "outputs": [],
   "source": [
    "import numpy as np\n",
    "import matplotlib.pyplot as plt\n",
    "from mpl_toolkits.mplot3d import Axes3D\n",
    "# ↓これがないとグラフが表示されない。（画像として表示されるので動かすことはできない。）\n",
    "# %matplotlib inline\n",
    "\n",
    "# ↓jupytor note book で使う時用（グリグリ動かせるようになる）\n",
    "%matplotlib notebook"
   ]
  },
  {
   "cell_type": "markdown",
   "metadata": {},
   "source": [
    "#### ○ 作成したモジュールのインポート"
   ]
  },
  {
   "cell_type": "code",
   "execution_count": 2,
   "metadata": {},
   "outputs": [],
   "source": [
    "import __main__\n",
    "from color_conversion_modules import myfunc_ConversionColor\n",
    "# 動かない時はリスタート"
   ]
  },
  {
   "cell_type": "markdown",
   "metadata": {},
   "source": [
    "#### ○ メイン関数"
   ]
  },
  {
   "cell_type": "code",
   "execution_count": null,
   "metadata": {},
   "outputs": [],
   "source": [
    "if __name__ == \"__main__\":\n",
    "    inst_RGB_and_xyz = myfunc_ConversionColor.RGB_and_xyz()        # インスタンス生成\n",
    "    inst_Luv_and_xyz = myfunc_ConversionColor.Luv_and_xyz()        # インスタンス生成\n",
    "\n",
    "    inputNum = input()\n",
    "    \n",
    "    if inputNum == \"plot\":      # グラフをプロットする処理\n",
    "        \n",
    "        inputNum2 = input()\n",
    "        \n",
    "        if inputNum2 == \"xyz\":\n",
    "            # ====================================\n",
    "            # xyz色度座標値をプロットする。\n",
    "            # ====================================\n",
    "            # x,y,z = inst_RGB_and_xyz.xyz_for_plot()           # RGB0~255全てを算出して配列に格納（プロット用データ）\n",
    "            # ax.scatter(x, y, z, color='gray')\n",
    "            inst_RGB_and_xyz.xyz_for_plot()\n",
    "            \n",
    "        else:   # 例外処理\n",
    "            print(\"入力値エラー(半角英字で入力する)\")\n",
    "\n",
    "\n",
    "    elif inputNum == \"num\":     # 座標を取得する処理\n",
    "        # ====================================\n",
    "        # RGBの三刺激値(0~255)からxyz色度座標値を求める。\n",
    "        # ====================================\n",
    "        x, y, z, Y = inst_RGB_and_xyz.RGB2xyz(255, 0, 0)     # 指定されたRGBの色座標を算出\n",
    "        print('(x, y, z) = ', (x, y, z))\n",
    "\n",
    "        R,G,B = inst_RGB_and_xyz.xyL2RGB(x, y, Y)\n",
    "        print('(r, g, b) = ', (R, G, B))\n",
    "\n",
    "        # ====================================\n",
    "        # RGBの三刺激値(0~255)からl*u*v*色度座標値を求める。\n",
    "        # ====================================\n",
    "        L_star,u_star,v_star = inst_Luv_and_xyz.RGB2Luv(255, 0, 0)\n",
    "        print(L_star, u_star, v_star)\n",
    "\n",
    "\n",
    "    else:   # 例外処理\n",
    "        print(\"入力値エラー(半角数字で入力する。)\")\n",
    "\n",
    "    plt.show()"
   ]
  },
  {
   "cell_type": "code",
   "execution_count": null,
   "metadata": {},
   "outputs": [],
   "source": []
  }
 ],
 "metadata": {
  "kernelspec": {
   "display_name": "Python 3",
   "language": "python",
   "name": "python3"
  },
  "language_info": {
   "codemirror_mode": {
    "name": "ipython",
    "version": 3
   },
   "file_extension": ".py",
   "mimetype": "text/x-python",
   "name": "python",
   "nbconvert_exporter": "python",
   "pygments_lexer": "ipython3",
   "version": "3.7.6"
  },
  "vscode": {
   "interpreter": {
    "hash": "aee8b7b246df8f9039afb4144a1f6fd8d2ca17a180786b69acc140d282b71a49"
   }
  }
 },
 "nbformat": 4,
 "nbformat_minor": 4
}
