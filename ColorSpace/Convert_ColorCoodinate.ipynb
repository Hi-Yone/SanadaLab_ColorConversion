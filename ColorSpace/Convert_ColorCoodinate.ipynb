{
 "cells": [
  {
   "cell_type": "markdown",
   "metadata": {},
   "source": [
    "# 色座標変換プログラム実行プログラム\n",
    "モジュールとして変換プログラムを読み込んで使用する。<br>\n",
    "このプログラムはメイン関数としてのみ使用する。\n",
    "\n",
    "- 着色に関して参考にできそう<br>\n",
    "https://www.t-kougei.ac.jp/activity/research/pdf/vol36-1-09.pdf\n",
    "\n",
    "- ToDo<br>\n",
    "    - xyz->RGBの逆変換も作る\n",
    "    - 各モジュールに対しても同様に逆変換を作る\n",
    "\n",
    "    - プロットの色をRGBまたはカラーコードで指定する -> 色度図の色の変化をわかりやすくする<br>\n",
    "    RGB指定の場合、0~255ではなく、0~1で指定する。<br>\n",
    "    https://note-tech.com/matplotlib-color/#toc3\n",
    "\n",
    "    - 測色結果を元に色変換ができるようにする（汎用性の向上）\n",
    "    - RGB - L*a*b*を作成\n",
    "    - RGB - lmsを作成\n",
    "    - RGB - dklを作成\n",
    "\n",
    "\n",
    "## 刺激値からは刺激値にだけ変換する。\n",
    "## 変換先の刺激値から座標値への変換は別に作る\n"
   ]
  },
  {
   "cell_type": "markdown",
   "metadata": {},
   "source": [
    "#### ○ 必要なライブラリのインポート"
   ]
  },
  {
   "cell_type": "code",
   "execution_count": 1,
   "metadata": {},
   "outputs": [],
   "source": [
    "import numpy as np\n",
    "import matplotlib.pyplot as plt\n",
    "from mpl_toolkits.mplot3d import Axes3D\n",
    "# ↓これがないとグラフが表示されない。（画像として表示されるので動かすことはできない。）\n",
    "\n",
    "%matplotlib inline\n",
    "\n",
    "# ↓jupytor note book で使う時用（グリグリ動かせるようになる）\n",
    "# %matplotlib notebook"
   ]
  },
  {
   "cell_type": "markdown",
   "metadata": {},
   "source": [
    "#### ○ 作成したモジュールのインポート"
   ]
  },
  {
   "cell_type": "code",
   "execution_count": 2,
   "metadata": {},
   "outputs": [
    {
     "name": "stdout",
     "output_type": "stream",
     "text": [
      "(0.734671, 0.265329, 0.0) (2.7689, 1.0, 0.0)\n"
     ]
    }
   ],
   "source": [
    "import __main__\n",
    "from color_conversion_modules import myfunc_ConversionColor\n",
    "# 動かない時はリスタート"
   ]
  },
  {
   "cell_type": "markdown",
   "metadata": {},
   "source": [
    "#### ○ メイン関数"
   ]
  },
  {
   "cell_type": "code",
   "execution_count": 3,
   "metadata": {},
   "outputs": [
    {
     "ename": "TypeError",
     "evalue": "cannot unpack non-iterable numpy.float64 object",
     "output_type": "error",
     "traceback": [
      "\u001b[0;31m---------------------------------------------------------------------------\u001b[0m",
      "\u001b[0;31mTypeError\u001b[0m                                 Traceback (most recent call last)",
      "\u001b[0;32m/var/folders/s3/39zwf60x30gb3p5ytbr891jh0000gn/T/ipykernel_17387/827186323.py\u001b[0m in \u001b[0;36m<module>\u001b[0;34m\u001b[0m\n\u001b[1;32m     19\u001b[0m             \u001b[0;31m# L*u*v*色度座標値をプロットする。\u001b[0m\u001b[0;34m\u001b[0m\u001b[0;34m\u001b[0m\u001b[0m\n\u001b[1;32m     20\u001b[0m             \u001b[0;31m# ====================================\u001b[0m\u001b[0;34m\u001b[0m\u001b[0;34m\u001b[0m\u001b[0m\n\u001b[0;32m---> 21\u001b[0;31m             \u001b[0minst_Luv_to_xyz\u001b[0m\u001b[0;34m.\u001b[0m\u001b[0mLuv_for_plot\u001b[0m\u001b[0;34m(\u001b[0m\u001b[0;34m)\u001b[0m\u001b[0;34m\u001b[0m\u001b[0;34m\u001b[0m\u001b[0m\n\u001b[0m\u001b[1;32m     22\u001b[0m \u001b[0;34m\u001b[0m\u001b[0m\n\u001b[1;32m     23\u001b[0m         \u001b[0;32melse\u001b[0m\u001b[0;34m:\u001b[0m   \u001b[0;31m# 例外処理\u001b[0m\u001b[0;34m\u001b[0m\u001b[0;34m\u001b[0m\u001b[0m\n",
      "\u001b[0;32m~/Sanada_lab/ColorConversion/ColorSpace/color_conversion_modules/myfunc_ConversionColor.py\u001b[0m in \u001b[0;36mLuv_for_plot\u001b[0;34m(self)\u001b[0m\n\u001b[1;32m    161\u001b[0m                                         \u001b[0mL_star_arr\u001b[0m\u001b[0;34m.\u001b[0m\u001b[0mappend\u001b[0m\u001b[0;34m(\u001b[0m\u001b[0mL_star\u001b[0m\u001b[0;34m)\u001b[0m\u001b[0;34m;\u001b[0m \u001b[0mu_star_arr\u001b[0m\u001b[0;34m.\u001b[0m\u001b[0mappend\u001b[0m\u001b[0;34m(\u001b[0m\u001b[0mu_star\u001b[0m\u001b[0;34m)\u001b[0m\u001b[0;34m;\u001b[0m \u001b[0mv_star_arr\u001b[0m\u001b[0;34m.\u001b[0m\u001b[0mappend\u001b[0m\u001b[0;34m(\u001b[0m\u001b[0mv_star\u001b[0m\u001b[0;34m)\u001b[0m\u001b[0;34m\u001b[0m\u001b[0;34m\u001b[0m\u001b[0m\n\u001b[1;32m    162\u001b[0m                                         \u001b[0mxyz\u001b[0m\u001b[0;34m,\u001b[0m \u001b[0mXYZ\u001b[0m\u001b[0;34m=\u001b[0m \u001b[0minst_RGB_to_xyz\u001b[0m\u001b[0;34m.\u001b[0m\u001b[0mRGB2xyz\u001b[0m\u001b[0;34m(\u001b[0m\u001b[0mk\u001b[0m\u001b[0;34m,\u001b[0m \u001b[0mj\u001b[0m\u001b[0;34m,\u001b[0m \u001b[0mi\u001b[0m\u001b[0;34m)\u001b[0m\u001b[0;34m\u001b[0m\u001b[0;34m\u001b[0m\u001b[0m\n\u001b[0;32m--> 163\u001b[0;31m                                         \u001b[0mx\u001b[0m\u001b[0;34m=\u001b[0m\u001b[0mxyz\u001b[0m\u001b[0;34m[\u001b[0m\u001b[0;36m0\u001b[0m\u001b[0;34m]\u001b[0m\u001b[0;34m;\u001b[0m \u001b[0my\u001b[0m\u001b[0;34m=\u001b[0m\u001b[0mxyz\u001b[0m\u001b[0;34m[\u001b[0m\u001b[0;36m1\u001b[0m\u001b[0;34m]\u001b[0m\u001b[0;34m,\u001b[0m \u001b[0mY\u001b[0m\u001b[0;34m=\u001b[0m\u001b[0mXYZ\u001b[0m\u001b[0;34m[\u001b[0m\u001b[0;36m1\u001b[0m\u001b[0;34m]\u001b[0m\u001b[0;34m\u001b[0m\u001b[0;34m\u001b[0m\u001b[0m\n\u001b[0m\u001b[1;32m    164\u001b[0m                                         \u001b[0mR\u001b[0m\u001b[0;34m,\u001b[0m \u001b[0mG\u001b[0m\u001b[0;34m,\u001b[0m \u001b[0mB\u001b[0m \u001b[0;34m=\u001b[0m \u001b[0minst_RGB_to_xyz\u001b[0m\u001b[0;34m.\u001b[0m\u001b[0mxyL2RGB\u001b[0m\u001b[0;34m(\u001b[0m\u001b[0mx\u001b[0m\u001b[0;34m,\u001b[0m \u001b[0my\u001b[0m\u001b[0;34m,\u001b[0m \u001b[0mY\u001b[0m\u001b[0;34m)\u001b[0m     \u001b[0;31m# プロットのカラー指定用にRGBを求める\u001b[0m\u001b[0;34m\u001b[0m\u001b[0;34m\u001b[0m\u001b[0m\n\u001b[1;32m    165\u001b[0m \u001b[0;34m\u001b[0m\u001b[0m\n",
      "\u001b[0;31mTypeError\u001b[0m: cannot unpack non-iterable numpy.float64 object"
     ]
    },
    {
     "data": {
      "image/png": "[encoded data removed]",
      "text/plain": [
       "<Figure size 432x288 with 1 Axes>"
      ]
     },
     "metadata": {
      "needs_background": "light"
     },
     "output_type": "display_data"
    }
   ],
   "source": [
    "if __name__ == \"__main__\":\n",
    "    inst_RGB_to_xyz = myfunc_ConversionColor.RGB_to_xyz()        # インスタンス生成\n",
    "    inst_Luv_to_xyz = myfunc_ConversionColor.Luv_to_RGB()        # インスタンス生成\n",
    "\n",
    "    inputNum = input()\n",
    "    \n",
    "    if inputNum == \"plot\":      # グラフをプロットする処理\n",
    "        \n",
    "        inputNum2 = input()\n",
    "        \n",
    "        if inputNum2 == \"xyz\":\n",
    "            # ====================================\n",
    "            # xyz色度座標値をプロットする。\n",
    "            # ====================================\n",
    "            inst_RGB_to_xyz.xyz_for_plot()\n",
    "\n",
    "        elif inputNum2 == \"Luv\":\n",
    "            # ====================================\n",
    "            # L*u*v*色度座標値をプロットする。\n",
    "            # ====================================\n",
    "            inst_Luv_to_xyz.Luv_for_plot()\n",
    "            \n",
    "        else:   # 例外処理\n",
    "            print(\"入力値エラー(半角英字で入力する)\")\n",
    "\n",
    "\n",
    "    elif inputNum == \"num\":     # 座標を取得する処理\n",
    "        # ====================================\n",
    "        # RGBの三刺激値(0~255)からxyz色度座標値を求める。\n",
    "        # ====================================\n",
    "        xyz, XYZ = inst_RGB_to_xyz.RGB2xyz(255, 0, 0)     # 指定されたRGBの色座標を算出\n",
    "        x=xyz[0]; y=xyz[1]; z=xyz[2]; Y=XYZ[1]\n",
    "        print('(x, y, z) = ', (x, y, z))\n",
    "\n",
    "        R,G,B = inst_RGB_to_xyz.xyL2RGB(x, y, Y)\n",
    "        print('(r, g, b) = ', (R, G, B))\n",
    "\n",
    "        # ====================================\n",
    "        # RGBの三刺激値(0~255)からl*u*v*色度座標値を求める。\n",
    "        # ====================================\n",
    "        L_star,u_star,v_star = inst_Luv_to_xyz.RGB2Luv(255, 0, 0)\n",
    "        print('(L*, u*, v*) = ', L_star, u_star, v_star)\n",
    "\n",
    "        R,G,B = inst_Luv_to_xyz.Luv2RGB(L_star, u_star, v_star)\n",
    "        print('(r, g, b) = ', (R, G, B))\n",
    "\n",
    "\n",
    "    else:   # 例外処理\n",
    "        print(\"入力値エラー(半角数字で入力する。)\")\n",
    "\n",
    "    plt.show()"
   ]
  },
  {
   "cell_type": "code",
   "execution_count": null,
   "metadata": {},
   "outputs": [],
   "source": []
  }
 ],
 "metadata": {
  "kernelspec": {
   "display_name": "Python 3",
   "language": "python",
   "name": "python3"
  },
  "language_info": {
   "codemirror_mode": {
    "name": "ipython",
    "version": 3
   },
   "file_extension": ".py",
   "mimetype": "text/x-python",
   "name": "python",
   "nbconvert_exporter": "python",
   "pygments_lexer": "ipython3",
   "version": "3.9.10"
  },
  "vscode": {
   "interpreter": {
    "hash": "aee8b7b246df8f9039afb4144a1f6fd8d2ca17a180786b69acc140d282b71a49"
   }
  }
 },
 "nbformat": 4,
 "nbformat_minor": 4
}
